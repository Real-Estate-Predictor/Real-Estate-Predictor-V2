{
 "cells": [
  {
   "cell_type": "code",
   "execution_count": 104,
   "metadata": {},
   "outputs": [],
   "source": [
    "import pandas as pd\n",
    "\n"
   ]
  },
  {
   "cell_type": "markdown",
   "metadata": {},
   "source": [
    "### we aim to use the python matplotlib library for data viz"
   ]
  },
  {
   "cell_type": "markdown",
   "metadata": {},
   "source": [
    "### Bar graph of Average Price for Each Neighbourhood (X: neighbourhood, Y: Average Price)\n",
    "https://www.youtube.com/watch?v=AFnUhiRXXWk&ab_channel=OSPY"
   ]
  },
  {
   "cell_type": "code",
   "execution_count": 105,
   "metadata": {},
   "outputs": [
    {
     "data": {
      "text/html": [
       "<div>\n",
       "<style scoped>\n",
       "    .dataframe tbody tr th:only-of-type {\n",
       "        vertical-align: middle;\n",
       "    }\n",
       "\n",
       "    .dataframe tbody tr th {\n",
       "        vertical-align: top;\n",
       "    }\n",
       "\n",
       "    .dataframe thead th {\n",
       "        text-align: right;\n",
       "    }\n",
       "</style>\n",
       "<table border=\"1\" class=\"dataframe\">\n",
       "  <thead>\n",
       "    <tr style=\"text-align: right;\">\n",
       "      <th></th>\n",
       "      <th>address</th>\n",
       "      <th>price</th>\n",
       "      <th>gross_tax</th>\n",
       "      <th>strata_maintenance_fees</th>\n",
       "      <th>bedrooms</th>\n",
       "      <th>bathrooms</th>\n",
       "      <th>property_type</th>\n",
       "      <th>property_age</th>\n",
       "      <th>title</th>\n",
       "      <th>style</th>\n",
       "      <th>...</th>\n",
       "      <th>appliances</th>\n",
       "      <th>community</th>\n",
       "      <th>days_on_rew</th>\n",
       "      <th>property_views</th>\n",
       "      <th>mls®_number</th>\n",
       "      <th>source</th>\n",
       "      <th>frontage</th>\n",
       "      <th>lot_size</th>\n",
       "      <th>year_built</th>\n",
       "      <th>depth</th>\n",
       "    </tr>\n",
       "  </thead>\n",
       "  <tbody>\n",
       "    <tr>\n",
       "      <th>1</th>\n",
       "      <td>3735 Puget Drive</td>\n",
       "      <td>5498800</td>\n",
       "      <td>19041</td>\n",
       "      <td>NaN</td>\n",
       "      <td>3</td>\n",
       "      <td>4</td>\n",
       "      <td>house</td>\n",
       "      <td>NaN</td>\n",
       "      <td>freehold nonstrata</td>\n",
       "      <td>2 storey w/bsmt.</td>\n",
       "      <td>...</td>\n",
       "      <td>NaN</td>\n",
       "      <td>arbutus</td>\n",
       "      <td>13 days</td>\n",
       "      <td>1491</td>\n",
       "      <td>r2735110</td>\n",
       "      <td>rebgv</td>\n",
       "      <td>57.00 feet</td>\n",
       "      <td>6954</td>\n",
       "      <td>35</td>\n",
       "      <td>122</td>\n",
       "    </tr>\n",
       "    <tr>\n",
       "      <th>2</th>\n",
       "      <td>2127 W 21st Avenue</td>\n",
       "      <td>4360000</td>\n",
       "      <td>15988</td>\n",
       "      <td>NaN</td>\n",
       "      <td>7</td>\n",
       "      <td>5</td>\n",
       "      <td>house</td>\n",
       "      <td>NaN</td>\n",
       "      <td>freehold nonstrata</td>\n",
       "      <td>3 storey</td>\n",
       "      <td>...</td>\n",
       "      <td>NaN</td>\n",
       "      <td>arbutus</td>\n",
       "      <td>88 days</td>\n",
       "      <td>601</td>\n",
       "      <td>r2689450</td>\n",
       "      <td>rebgv</td>\n",
       "      <td>50.00 feet</td>\n",
       "      <td>6100</td>\n",
       "      <td>33</td>\n",
       "      <td>122</td>\n",
       "    </tr>\n",
       "    <tr>\n",
       "      <th>3</th>\n",
       "      <td>2268 W 19th Avenue</td>\n",
       "      <td>6880000</td>\n",
       "      <td>23147</td>\n",
       "      <td>NaN</td>\n",
       "      <td>5</td>\n",
       "      <td>8</td>\n",
       "      <td>house</td>\n",
       "      <td>NaN</td>\n",
       "      <td>freehold nonstrata</td>\n",
       "      <td>2 storey w/bsmt.</td>\n",
       "      <td>...</td>\n",
       "      <td>washer/dryer/fridge/stove/dishwasher</td>\n",
       "      <td>arbutus</td>\n",
       "      <td>88 days</td>\n",
       "      <td>540</td>\n",
       "      <td>r2682157</td>\n",
       "      <td>rebgv</td>\n",
       "      <td>50.00 feet</td>\n",
       "      <td>6104</td>\n",
       "      <td>5</td>\n",
       "      <td>122</td>\n",
       "    </tr>\n",
       "    <tr>\n",
       "      <th>4</th>\n",
       "      <td>3894 Quesnel Drive</td>\n",
       "      <td>5888000</td>\n",
       "      <td>12189</td>\n",
       "      <td>NaN</td>\n",
       "      <td>3</td>\n",
       "      <td>4</td>\n",
       "      <td>house</td>\n",
       "      <td>NaN</td>\n",
       "      <td>freehold nonstrata</td>\n",
       "      <td>3 storey</td>\n",
       "      <td>...</td>\n",
       "      <td>washer/dryer/fridge/stove/dishwasher</td>\n",
       "      <td>arbutus</td>\n",
       "      <td>88 days</td>\n",
       "      <td>284</td>\n",
       "      <td>r2654152</td>\n",
       "      <td>rebgv</td>\n",
       "      <td>44.00 feet</td>\n",
       "      <td>4100</td>\n",
       "      <td>89</td>\n",
       "      <td>93.2</td>\n",
       "    </tr>\n",
       "    <tr>\n",
       "      <th>5</th>\n",
       "      <td>2690 W 21st Avenue</td>\n",
       "      <td>4299000</td>\n",
       "      <td>14265</td>\n",
       "      <td>NaN</td>\n",
       "      <td>7</td>\n",
       "      <td>6</td>\n",
       "      <td>house</td>\n",
       "      <td>NaN</td>\n",
       "      <td>freehold nonstrata</td>\n",
       "      <td>2 storey w/bsmt.,corner unit</td>\n",
       "      <td>...</td>\n",
       "      <td>disposal - waste, in suite laundry, washer/dry...</td>\n",
       "      <td>arbutus</td>\n",
       "      <td>231 days</td>\n",
       "      <td>1440</td>\n",
       "      <td>r2669524</td>\n",
       "      <td>rebgv</td>\n",
       "      <td>60.00 feet</td>\n",
       "      <td>7320</td>\n",
       "      <td>28</td>\n",
       "      <td>122</td>\n",
       "    </tr>\n",
       "  </tbody>\n",
       "</table>\n",
       "<p>5 rows × 23 columns</p>\n",
       "</div>"
      ],
      "text/plain": [
       "              address    price gross_tax strata_maintenance_fees bedrooms  \\\n",
       "1    3735 Puget Drive  5498800     19041                     NaN        3   \n",
       "2  2127 W 21st Avenue  4360000     15988                     NaN        7   \n",
       "3  2268 W 19th Avenue  6880000     23147                     NaN        5   \n",
       "4  3894 Quesnel Drive  5888000     12189                     NaN        3   \n",
       "5  2690 W 21st Avenue  4299000     14265                     NaN        7   \n",
       "\n",
       "  bathrooms property_type property_age               title  \\\n",
       "1         4         house          NaN  freehold nonstrata   \n",
       "2         5         house          NaN  freehold nonstrata   \n",
       "3         8         house          NaN  freehold nonstrata   \n",
       "4         4         house          NaN  freehold nonstrata   \n",
       "5         6         house          NaN  freehold nonstrata   \n",
       "\n",
       "                          style  ...  \\\n",
       "1              2 storey w/bsmt.  ...   \n",
       "2                      3 storey  ...   \n",
       "3              2 storey w/bsmt.  ...   \n",
       "4                      3 storey  ...   \n",
       "5  2 storey w/bsmt.,corner unit  ...   \n",
       "\n",
       "                                          appliances community days_on_rew  \\\n",
       "1                                                NaN   arbutus     13 days   \n",
       "2                                                NaN   arbutus     88 days   \n",
       "3               washer/dryer/fridge/stove/dishwasher   arbutus     88 days   \n",
       "4               washer/dryer/fridge/stove/dishwasher   arbutus     88 days   \n",
       "5  disposal - waste, in suite laundry, washer/dry...   arbutus    231 days   \n",
       "\n",
       "  property_views mls®_number source    frontage lot_size year_built depth  \n",
       "1           1491    r2735110  rebgv  57.00 feet     6954         35   122  \n",
       "2            601    r2689450  rebgv  50.00 feet     6100         33   122  \n",
       "3            540    r2682157  rebgv  50.00 feet     6104          5   122  \n",
       "4            284    r2654152  rebgv  44.00 feet     4100         89  93.2  \n",
       "5           1440    r2669524  rebgv  60.00 feet     7320         28   122  \n",
       "\n",
       "[5 rows x 23 columns]"
      ]
     },
     "execution_count": 105,
     "metadata": {},
     "output_type": "execute_result"
    }
   ],
   "source": [
    "data = pd.read_csv('../2-clean-data/data/afterCleaning.csv', header=None, on_bad_lines='skip').iloc[1: , 1:]\n",
    "data.columns = column_names = [\n",
    "\"address\",\n",
    "\"price\",\n",
    "\"gross_tax\",\n",
    "\"strata_maintenance_fees\",\n",
    "\"bedrooms\",\n",
    "\"bathrooms\",\n",
    "\"property_type\",\n",
    "\"property_age\",\n",
    "\"title\",\n",
    "\"style\",\n",
    "\"heating_type\",\n",
    "\"feature\",\n",
    "\"amenities\",\n",
    "\"appliances\",\n",
    "\"community\",\n",
    "\"days_on_rew\",\n",
    "\"property_views\",\n",
    "\"mls®_number\",\n",
    "\"source\",\n",
    "'frontage', \n",
    "'lot_size', \n",
    "'year_built', \n",
    "'depth']\n",
    "data.head()"
   ]
  },
  {
   "cell_type": "markdown",
   "metadata": {},
   "source": [
    "### Bar graph of Average Lot Size for Each Community (X: Community, Y: Average Lot Size)"
   ]
  },
  {
   "cell_type": "code",
   "execution_count": 106,
   "metadata": {},
   "outputs": [
    {
     "data": {
      "text/html": [
       "<div>\n",
       "<style scoped>\n",
       "    .dataframe tbody tr th:only-of-type {\n",
       "        vertical-align: middle;\n",
       "    }\n",
       "\n",
       "    .dataframe tbody tr th {\n",
       "        vertical-align: top;\n",
       "    }\n",
       "\n",
       "    .dataframe thead th {\n",
       "        text-align: right;\n",
       "    }\n",
       "</style>\n",
       "<table border=\"1\" class=\"dataframe\">\n",
       "  <thead>\n",
       "    <tr style=\"text-align: right;\">\n",
       "      <th></th>\n",
       "      <th>price</th>\n",
       "      <th>lot_size</th>\n",
       "    </tr>\n",
       "    <tr>\n",
       "      <th>community</th>\n",
       "      <th></th>\n",
       "      <th></th>\n",
       "    </tr>\n",
       "  </thead>\n",
       "  <tbody>\n",
       "    <tr>\n",
       "      <th>arbutus</th>\n",
       "      <td>4807920.0</td>\n",
       "      <td>5898.933333</td>\n",
       "    </tr>\n",
       "  </tbody>\n",
       "</table>\n",
       "</div>"
      ],
      "text/plain": [
       "               price     lot_size\n",
       "community                        \n",
       "arbutus    4807920.0  5898.933333"
      ]
     },
     "execution_count": 106,
     "metadata": {},
     "output_type": "execute_result"
    },
    {
     "data": {
      "image/png": "[encoded data removed]",
      "text/plain": [
       "<Figure size 640x480 with 1 Axes>"
      ]
     },
     "metadata": {},
     "output_type": "display_data"
    }
   ],
   "source": [
    "data[['price', 'lot_size']] = data[['price', 'lot_size']].astype(float)\n",
    "data[['community']] = data[['community']].astype(str)\n",
    "\n",
    "df1 = data[['price', 'community','lot_size']].groupby(['community']).mean()\n",
    "# df1.head()\n",
    "\n",
    "%matplotlib inline\n",
    "df1.plot.bar(column='lot_size', by = 'community')\n",
    "df1.head()\n"
   ]
  },
  {
   "cell_type": "markdown",
   "metadata": {},
   "source": [
    "### Box Plot of Price for each Neighbourhood\n",
    "https://www.youtube.com/watch?v=BE8CVGJuftI&ab_channel=MichaelGalarnyk"
   ]
  },
  {
   "cell_type": "code",
   "execution_count": 107,
   "metadata": {},
   "outputs": [
    {
     "data": {
      "text/plain": [
       "<AxesSubplot:title={'center':'price'}, xlabel='community'>"
      ]
     },
     "execution_count": 107,
     "metadata": {},
     "output_type": "execute_result"
    },
    {
     "data": {
      "image/png": "[encoded data removed]",
      "text/plain": [
       "<Figure size 640x480 with 1 Axes>"
      ]
     },
     "metadata": {},
     "output_type": "display_data"
    }
   ],
   "source": [
    "data[['price', 'lot_size']] = data[['price', 'lot_size']].astype(float)\n",
    "data[['community']] = data[['community']].astype(str)\n",
    "\n",
    "%matplotlib inline\n",
    "data.boxplot(column='price', by = 'community')"
   ]
  },
  {
   "cell_type": "markdown",
   "metadata": {},
   "source": [
    "# Show a bar graph of  lot-size / price for each Neighbourhood"
   ]
  },
  {
   "cell_type": "code",
   "execution_count": null,
   "metadata": {},
   "outputs": [],
   "source": []
  },
  {
   "cell_type": "markdown",
   "metadata": {},
   "source": [
    "# scatter plot\n",
    "https://www.youtube.com/watch?v=zZZ_RCwp49g&ab_channel=CoreySchafer"
   ]
  }
 ],
 "metadata": {
  "kernelspec": {
   "display_name": "Python 3.8.9 64-bit",
   "language": "python",
   "name": "python3"
  },
  "language_info": {
   "name": "python",
   "version": "3.8.9"
  },
  "orig_nbformat": 4,
  "vscode": {
   "interpreter": {
    "hash": "31f2aee4e71d21fbe5cf8b01ff0e069b9275f58929596ceb00d14d90e3e16cd6"
   }
  }
 },
 "nbformat": 4,
 "nbformat_minor": 2
}

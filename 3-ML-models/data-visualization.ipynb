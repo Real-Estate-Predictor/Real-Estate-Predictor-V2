{
 "cells": [
  {
   "cell_type": "code",
   "execution_count": null,
   "metadata": {},
   "outputs": [],
   "source": []
  },
  {
   "cell_type": "markdown",
   "metadata": {},
   "source": [
    "### we aim to use the python matplotlib library for data viz"
   ]
  },
  {
   "cell_type": "markdown",
   "metadata": {},
   "source": [
    "### Bar graph of Average Price for Each Neighbourhood (X: neighbourhood, Y: Average Price)\n",
    "https://www.youtube.com/watch?v=AFnUhiRXXWk&ab_channel=OSPY"
   ]
  },
  {
   "cell_type": "code",
   "execution_count": null,
   "metadata": {},
   "outputs": [],
   "source": []
  },
  {
   "cell_type": "markdown",
   "metadata": {},
   "source": [
    "### Bar graph of Average Lot Size for Each Neighbourhood (X: Lot Size, Y: Average Price)"
   ]
  },
  {
   "cell_type": "code",
   "execution_count": null,
   "metadata": {},
   "outputs": [],
   "source": []
  },
  {
   "cell_type": "markdown",
   "metadata": {},
   "source": [
    "### Box Plot of Price for each Neighbourhood\n",
    "https://www.youtube.com/watch?v=BE8CVGJuftI&ab_channel=MichaelGalarnyk"
   ]
  },
  {
   "cell_type": "code",
   "execution_count": null,
   "metadata": {},
   "outputs": [],
   "source": []
  },
  {
   "cell_type": "markdown",
   "metadata": {},
   "source": [
    "# Show a bar graph of  lot-size / price for each Neighbourhood"
   ]
  },
  {
   "cell_type": "code",
   "execution_count": null,
   "metadata": {},
   "outputs": [],
   "source": []
  },
  {
   "cell_type": "markdown",
   "metadata": {},
   "source": [
    "# scatter plot\n",
    "https://www.youtube.com/watch?v=zZZ_RCwp49g&ab_channel=CoreySchafer"
   ]
  }
 ],
 "metadata": {
  "kernelspec": {
   "display_name": "Python 3.9.13 ('base')",
   "language": "python",
   "name": "python3"
  },
  "language_info": {
   "name": "python",
   "version": "3.9.13"
  },
  "orig_nbformat": 4,
  "vscode": {
   "interpreter": {
    "hash": "c642f54e9f86f9328b65f2d0291adcd375b22383b55e74f6863b525c355a9902"
   }
  }
 },
 "nbformat": 4,
 "nbformat_minor": 2
}

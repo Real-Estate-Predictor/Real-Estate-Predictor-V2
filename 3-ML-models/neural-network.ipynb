{
 "cells": [
  {
   "cell_type": "code",
   "execution_count": null,
   "metadata": {},
   "outputs": [],
   "source": []
  },
  {
   "cell_type": "markdown",
   "metadata": {},
   "source": [
    "# Research a method to use neural networks to predict price.\n"
   ]
  }
 ],
 "metadata": {
  "kernelspec": {
   "display_name": "Python 3.9.13 ('base')",
   "language": "python",
   "name": "python3"
  },
  "language_info": {
   "name": "python",
   "version": "3.9.13"
  },
  "orig_nbformat": 4,
  "vscode": {
   "interpreter": {
    "hash": "c642f54e9f86f9328b65f2d0291adcd375b22383b55e74f6863b525c355a9902"
   }
  }
 },
 "nbformat": 4,
 "nbformat_minor": 2
}

{
 "cells": [
  {
   "cell_type": "code",
   "execution_count": 5,
   "metadata": {},
   "outputs": [],
   "source": [
    "import pandas as pd\n",
    "\n",
    "def encode_categorical_columns(df, cat_cols):\n",
    "    '''\n",
    "    Encode categorical columns in pandas dataframe using one-hot encoding.\n",
    "    \n",
    "    Parameters:\n",
    "    df (pandas dataframe): The dataframe to encode.\n",
    "    cat_cols (list): A list of column names to encode.\n",
    "    \n",
    "    Returns:\n",
    "    A new pandas dataframe with the specified categorical columns replaced by their encoded values.\n",
    "    '''\n",
    "    # check if specified columns exist in the dataframe\n",
    "    missing_cols = set(cat_cols) - set(df.columns)\n",
    "    if missing_cols:\n",
    "        raise KeyError(f\"The following columns were not found in the dataframe: {list(missing_cols)}\")\n",
    "    \n",
    "    # create a new dataframe with the encoded columns\n",
    "    for col in cat_cols:\n",
    "        df_encoded = pd.get_dummies(df[col], prefix=col)\n",
    "        df = df.drop(col, axis=1)\n",
    "        df = df.join(df_encoded)\n",
    "    \n",
    "    return df"
   ]
  },
  {
   "cell_type": "code",
   "execution_count": 6,
   "metadata": {},
   "outputs": [
    {
     "name": "stdout",
     "output_type": "stream",
     "text": [
      "   Color_Blue  Color_Green  Color_Red  Size_Large  Size_Medium  Size_Small  \\\n",
      "0           0            0          1           0            0           1   \n",
      "1           0            1          0           1            0           0   \n",
      "2           1            0          0           0            1           0   \n",
      "3           0            0          1           0            1           0   \n",
      "4           0            1          0           0            0           1   \n",
      "\n",
      "   Shape_Circle  Shape_Square  Shape_Triangle  \n",
      "0             1             0               0  \n",
      "1             0             1               0  \n",
      "2             0             0               1  \n",
      "3             1             0               0  \n",
      "4             0             1               0  \n"
     ]
    }
   ],
   "source": [
    "# create a sample dataframe with categorical columns\n",
    "data = {\"Color\": [\"Red\", \"Green\", \"Blue\", \"Red\", \"Green\"],\n",
    "        \"Size\": [\"Small\", \"Large\", \"Medium\", \"Medium\", \"Small\"],\n",
    "        \"Shape\": [\"Circle\", \"Square\", \"Triangle\", \"Circle\", \"Square\"]}\n",
    "df = pd.DataFrame(data)\n",
    "\n",
    "# encode the categorical columns\n",
    "cat_cols = [\"Color\", \"Size\", \"Shape\"]\n",
    "df_encoded = encode_categorical_columns(df, cat_cols)\n",
    "\n",
    "# display the updated dataframe\n",
    "print(df_encoded)"
   ]
  }
 ],
 "metadata": {
  "kernelspec": {
   "display_name": "Python 3",
   "language": "python",
   "name": "python3"
  },
  "language_info": {
   "codemirror_mode": {
    "name": "ipython",
    "version": 3
   },
   "file_extension": ".py",
   "mimetype": "text/x-python",
   "name": "python",
   "nbconvert_exporter": "python",
   "pygments_lexer": "ipython3",
   "version": "3.9.13"
  },
  "orig_nbformat": 4
 },
 "nbformat": 4,
 "nbformat_minor": 2
}

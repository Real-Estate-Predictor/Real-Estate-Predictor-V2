{
 "cells": [
  {
   "cell_type": "code",
   "execution_count": 2,
   "metadata": {},
   "outputs": [],
   "source": [
    "import pandas as pd\n"
   ]
  },
  {
   "cell_type": "code",
   "execution_count": 7,
   "metadata": {},
   "outputs": [
    {
     "data": {
      "text/html": [
       "<div>\n",
       "<style scoped>\n",
       "    .dataframe tbody tr th:only-of-type {\n",
       "        vertical-align: middle;\n",
       "    }\n",
       "\n",
       "    .dataframe tbody tr th {\n",
       "        vertical-align: top;\n",
       "    }\n",
       "\n",
       "    .dataframe thead th {\n",
       "        text-align: right;\n",
       "    }\n",
       "</style>\n",
       "<table border=\"1\" class=\"dataframe\">\n",
       "  <thead>\n",
       "    <tr style=\"text-align: right;\">\n",
       "      <th></th>\n",
       "      <th>0</th>\n",
       "      <th>1</th>\n",
       "      <th>2</th>\n",
       "      <th>3</th>\n",
       "      <th>4</th>\n",
       "      <th>5</th>\n",
       "      <th>6</th>\n",
       "      <th>7</th>\n",
       "      <th>8</th>\n",
       "      <th>9</th>\n",
       "      <th>...</th>\n",
       "      <th>13</th>\n",
       "      <th>14</th>\n",
       "      <th>15</th>\n",
       "      <th>16</th>\n",
       "      <th>17</th>\n",
       "      <th>18</th>\n",
       "      <th>19</th>\n",
       "      <th>20</th>\n",
       "      <th>21</th>\n",
       "      <th>22</th>\n",
       "    </tr>\n",
       "  </thead>\n",
       "  <tbody>\n",
       "    <tr>\n",
       "      <th>0</th>\n",
       "      <td>address</td>\n",
       "      <td>price</td>\n",
       "      <td>gross_tax</td>\n",
       "      <td>strata_maintenance_fees</td>\n",
       "      <td>bedrooms</td>\n",
       "      <td>bathrooms</td>\n",
       "      <td>property_type</td>\n",
       "      <td>property_age</td>\n",
       "      <td>title</td>\n",
       "      <td>style</td>\n",
       "      <td>...</td>\n",
       "      <td>appliances</td>\n",
       "      <td>community</td>\n",
       "      <td>days_on_rew</td>\n",
       "      <td>property_views</td>\n",
       "      <td>mls®_number</td>\n",
       "      <td>source</td>\n",
       "      <td>frontage</td>\n",
       "      <td>lot_size</td>\n",
       "      <td>year_built</td>\n",
       "      <td>depth</td>\n",
       "    </tr>\n",
       "    <tr>\n",
       "      <th>1</th>\n",
       "      <td>3735 Puget Drive</td>\n",
       "      <td>$5,498,800</td>\n",
       "      <td>$19,041</td>\n",
       "      <td>NaN</td>\n",
       "      <td>3</td>\n",
       "      <td>4</td>\n",
       "      <td>house</td>\n",
       "      <td>NaN</td>\n",
       "      <td>freehold nonstrata</td>\n",
       "      <td>2 storey w/bsmt.</td>\n",
       "      <td>...</td>\n",
       "      <td>NaN</td>\n",
       "      <td>arbutus</td>\n",
       "      <td>13 days</td>\n",
       "      <td>1491</td>\n",
       "      <td>r2735110</td>\n",
       "      <td>rebgv</td>\n",
       "      <td>57.00 feet</td>\n",
       "      <td>57 ft x 122 ft (6954 ft²)</td>\n",
       "      <td>built in 1987 (35 yrs old)</td>\n",
       "      <td>122</td>\n",
       "    </tr>\n",
       "    <tr>\n",
       "      <th>2</th>\n",
       "      <td>3735 Puget Drive</td>\n",
       "      <td>$5,498,800</td>\n",
       "      <td>$19,041</td>\n",
       "      <td>NaN</td>\n",
       "      <td>3</td>\n",
       "      <td>4</td>\n",
       "      <td>house</td>\n",
       "      <td>NaN</td>\n",
       "      <td>freehold nonstrata</td>\n",
       "      <td>2 storey w/bsmt.</td>\n",
       "      <td>...</td>\n",
       "      <td>NaN</td>\n",
       "      <td>arbutus</td>\n",
       "      <td>13 days</td>\n",
       "      <td>1491</td>\n",
       "      <td>r2735110</td>\n",
       "      <td>rebgv</td>\n",
       "      <td>57.00 feet</td>\n",
       "      <td>57 ft x 122 ft (6954 ft²)</td>\n",
       "      <td>built in 1987 (35 yrs old)</td>\n",
       "      <td>122</td>\n",
       "    </tr>\n",
       "    <tr>\n",
       "      <th>3</th>\n",
       "      <td>302 5118 Cambie Street</td>\n",
       "      <td>$2,367,900</td>\n",
       "      <td>$0</td>\n",
       "      <td>$925</td>\n",
       "      <td>3</td>\n",
       "      <td>3</td>\n",
       "      <td>apt/condo</td>\n",
       "      <td>NaN</td>\n",
       "      <td>freehold strata</td>\n",
       "      <td>1 storey</td>\n",
       "      <td>...</td>\n",
       "      <td>in suite laundry, microwave, range top, washer...</td>\n",
       "      <td>cambie</td>\n",
       "      <td>109 days</td>\n",
       "      <td>592</td>\n",
       "      <td>r2712600</td>\n",
       "      <td>rebgv</td>\n",
       "      <td>NaN</td>\n",
       "      <td>NaN</td>\n",
       "      <td>built in 2022 (0 yrs old)</td>\n",
       "      <td>NaN</td>\n",
       "    </tr>\n",
       "    <tr>\n",
       "      <th>4</th>\n",
       "      <td>438 W 17th Avenue</td>\n",
       "      <td>$3,888,000</td>\n",
       "      <td>$10,064</td>\n",
       "      <td>NaN</td>\n",
       "      <td>8</td>\n",
       "      <td>4</td>\n",
       "      <td>multifamily</td>\n",
       "      <td>NaN</td>\n",
       "      <td>freehold nonstrata</td>\n",
       "      <td>NaN</td>\n",
       "      <td>...</td>\n",
       "      <td>NaN</td>\n",
       "      <td>cambie</td>\n",
       "      <td>61 days</td>\n",
       "      <td>1129</td>\n",
       "      <td>r2722725</td>\n",
       "      <td>rebgv</td>\n",
       "      <td>49.70 feet</td>\n",
       "      <td>49 ft x 137 ft (6807 ft²)</td>\n",
       "      <td>built in 1930 (92 yrs old)</td>\n",
       "      <td>137.5</td>\n",
       "    </tr>\n",
       "  </tbody>\n",
       "</table>\n",
       "<p>5 rows × 23 columns</p>\n",
       "</div>"
      ],
      "text/plain": [
       "                       0           1          2                        3   \\\n",
       "0                 address       price  gross_tax  strata_maintenance_fees   \n",
       "1        3735 Puget Drive  $5,498,800    $19,041                      NaN   \n",
       "2        3735 Puget Drive  $5,498,800    $19,041                      NaN   \n",
       "3  302 5118 Cambie Street  $2,367,900         $0                     $925   \n",
       "4       438 W 17th Avenue  $3,888,000    $10,064                      NaN   \n",
       "\n",
       "         4          5              6             7                   8   \\\n",
       "0  bedrooms  bathrooms  property_type  property_age               title   \n",
       "1         3          4          house           NaN  freehold nonstrata   \n",
       "2         3          4          house           NaN  freehold nonstrata   \n",
       "3         3          3      apt/condo           NaN     freehold strata   \n",
       "4         8          4    multifamily           NaN  freehold nonstrata   \n",
       "\n",
       "                 9   ...                                                 13  \\\n",
       "0             style  ...                                         appliances   \n",
       "1  2 storey w/bsmt.  ...                                                NaN   \n",
       "2  2 storey w/bsmt.  ...                                                NaN   \n",
       "3          1 storey  ...  in suite laundry, microwave, range top, washer...   \n",
       "4               NaN  ...                                                NaN   \n",
       "\n",
       "          14           15              16           17      18          19  \\\n",
       "0  community  days_on_rew  property_views  mls®_number  source    frontage   \n",
       "1    arbutus      13 days            1491     r2735110   rebgv  57.00 feet   \n",
       "2    arbutus      13 days            1491     r2735110   rebgv  57.00 feet   \n",
       "3     cambie     109 days             592     r2712600   rebgv         NaN   \n",
       "4     cambie      61 days            1129     r2722725   rebgv  49.70 feet   \n",
       "\n",
       "                          20                          21     22  \n",
       "0                   lot_size                  year_built  depth  \n",
       "1  57 ft x 122 ft (6954 ft²)  built in 1987 (35 yrs old)    122  \n",
       "2  57 ft x 122 ft (6954 ft²)  built in 1987 (35 yrs old)    122  \n",
       "3                        NaN   built in 2022 (0 yrs old)    NaN  \n",
       "4  49 ft x 137 ft (6807 ft²)  built in 1930 (92 yrs old)  137.5  \n",
       "\n",
       "[5 rows x 23 columns]"
      ]
     },
     "execution_count": 7,
     "metadata": {},
     "output_type": "execute_result"
    }
   ],
   "source": [
    "data = pd.read_csv('./data/sample-data.csv', header=None, on_bad_lines='skip')\n",
    "data.head()"
   ]
  },
  {
   "cell_type": "code",
   "execution_count": 6,
   "metadata": {},
   "outputs": [
    {
     "name": "stderr",
     "output_type": "stream",
     "text": [
      "/var/folders/hx/wsc86f0s71j8zp38fr7x77pc0000gn/T/ipykernel_25285/2287298755.py:2: SettingWithCopyWarning: \n",
      "A value is trying to be set on a copy of a slice from a DataFrame\n",
      "\n",
      "See the caveats in the documentation: https://pandas.pydata.org/pandas-docs/stable/user_guide/indexing.html#returning-a-view-versus-a-copy\n",
      "  houses.drop(houses.columns[15:], axis=1, inplace=True)\n"
     ]
    },
    {
     "ename": "ValueError",
     "evalue": "Length mismatch: Expected axis has 15 elements, new values have 23 elements",
     "output_type": "error",
     "traceback": [
      "\u001b[0;31m---------------------------------------------------------------------------\u001b[0m",
      "\u001b[0;31mValueError\u001b[0m                                Traceback (most recent call last)",
      "Cell \u001b[0;32mIn [6], line 26\u001b[0m\n\u001b[1;32m      2\u001b[0m houses\u001b[38;5;241m.\u001b[39mdrop(houses\u001b[38;5;241m.\u001b[39mcolumns[\u001b[38;5;241m15\u001b[39m:], axis\u001b[38;5;241m=\u001b[39m\u001b[38;5;241m1\u001b[39m, inplace\u001b[38;5;241m=\u001b[39m\u001b[38;5;28;01mTrue\u001b[39;00m)\n\u001b[1;32m      3\u001b[0m house_columns \u001b[38;5;241m=\u001b[39m [\u001b[38;5;124m\"\u001b[39m\u001b[38;5;124maddress\u001b[39m\u001b[38;5;124m\"\u001b[39m,\n\u001b[1;32m      4\u001b[0m \u001b[38;5;124m\"\u001b[39m\u001b[38;5;124mprice\u001b[39m\u001b[38;5;124m\"\u001b[39m,\n\u001b[1;32m      5\u001b[0m \u001b[38;5;124m\"\u001b[39m\u001b[38;5;124mgross_tax\u001b[39m\u001b[38;5;124m\"\u001b[39m,\n\u001b[0;32m   (...)\u001b[0m\n\u001b[1;32m     24\u001b[0m \u001b[38;5;124m'\u001b[39m\u001b[38;5;124myear_built\u001b[39m\u001b[38;5;124m'\u001b[39m, \n\u001b[1;32m     25\u001b[0m \u001b[38;5;124m'\u001b[39m\u001b[38;5;124mdepth\u001b[39m\u001b[38;5;124m'\u001b[39m]\n\u001b[0;32m---> 26\u001b[0m houses\u001b[38;5;241m.\u001b[39mcolumns \u001b[38;5;241m=\u001b[39m house_columns\n\u001b[1;32m     27\u001b[0m houses\u001b[38;5;241m.\u001b[39mhead()\n",
      "File \u001b[0;32m~/opt/anaconda3/envs/pandas/lib/python3.9/site-packages/pandas/core/generic.py:5588\u001b[0m, in \u001b[0;36mNDFrame.__setattr__\u001b[0;34m(self, name, value)\u001b[0m\n\u001b[1;32m   5586\u001b[0m \u001b[39mtry\u001b[39;00m:\n\u001b[1;32m   5587\u001b[0m     \u001b[39mobject\u001b[39m\u001b[39m.\u001b[39m\u001b[39m__getattribute__\u001b[39m(\u001b[39mself\u001b[39m, name)\n\u001b[0;32m-> 5588\u001b[0m     \u001b[39mreturn\u001b[39;00m \u001b[39mobject\u001b[39;49m\u001b[39m.\u001b[39;49m\u001b[39m__setattr__\u001b[39;49m(\u001b[39mself\u001b[39;49m, name, value)\n\u001b[1;32m   5589\u001b[0m \u001b[39mexcept\u001b[39;00m \u001b[39mAttributeError\u001b[39;00m:\n\u001b[1;32m   5590\u001b[0m     \u001b[39mpass\u001b[39;00m\n",
      "File \u001b[0;32m~/opt/anaconda3/envs/pandas/lib/python3.9/site-packages/pandas/_libs/properties.pyx:70\u001b[0m, in \u001b[0;36mpandas._libs.properties.AxisProperty.__set__\u001b[0;34m()\u001b[0m\n",
      "File \u001b[0;32m~/opt/anaconda3/envs/pandas/lib/python3.9/site-packages/pandas/core/generic.py:769\u001b[0m, in \u001b[0;36mNDFrame._set_axis\u001b[0;34m(self, axis, labels)\u001b[0m\n\u001b[1;32m    767\u001b[0m \u001b[39mdef\u001b[39;00m \u001b[39m_set_axis\u001b[39m(\u001b[39mself\u001b[39m, axis: \u001b[39mint\u001b[39m, labels: Index) \u001b[39m-\u001b[39m\u001b[39m>\u001b[39m \u001b[39mNone\u001b[39;00m:\n\u001b[1;32m    768\u001b[0m     labels \u001b[39m=\u001b[39m ensure_index(labels)\n\u001b[0;32m--> 769\u001b[0m     \u001b[39mself\u001b[39;49m\u001b[39m.\u001b[39;49m_mgr\u001b[39m.\u001b[39;49mset_axis(axis, labels)\n\u001b[1;32m    770\u001b[0m     \u001b[39mself\u001b[39m\u001b[39m.\u001b[39m_clear_item_cache()\n",
      "File \u001b[0;32m~/opt/anaconda3/envs/pandas/lib/python3.9/site-packages/pandas/core/internals/managers.py:214\u001b[0m, in \u001b[0;36mBaseBlockManager.set_axis\u001b[0;34m(self, axis, new_labels)\u001b[0m\n\u001b[1;32m    212\u001b[0m \u001b[39mdef\u001b[39;00m \u001b[39mset_axis\u001b[39m(\u001b[39mself\u001b[39m, axis: \u001b[39mint\u001b[39m, new_labels: Index) \u001b[39m-\u001b[39m\u001b[39m>\u001b[39m \u001b[39mNone\u001b[39;00m:\n\u001b[1;32m    213\u001b[0m     \u001b[39m# Caller is responsible for ensuring we have an Index object.\u001b[39;00m\n\u001b[0;32m--> 214\u001b[0m     \u001b[39mself\u001b[39;49m\u001b[39m.\u001b[39;49m_validate_set_axis(axis, new_labels)\n\u001b[1;32m    215\u001b[0m     \u001b[39mself\u001b[39m\u001b[39m.\u001b[39maxes[axis] \u001b[39m=\u001b[39m new_labels\n",
      "File \u001b[0;32m~/opt/anaconda3/envs/pandas/lib/python3.9/site-packages/pandas/core/internals/base.py:69\u001b[0m, in \u001b[0;36mDataManager._validate_set_axis\u001b[0;34m(self, axis, new_labels)\u001b[0m\n\u001b[1;32m     66\u001b[0m     \u001b[39mpass\u001b[39;00m\n\u001b[1;32m     68\u001b[0m \u001b[39melif\u001b[39;00m new_len \u001b[39m!=\u001b[39m old_len:\n\u001b[0;32m---> 69\u001b[0m     \u001b[39mraise\u001b[39;00m \u001b[39mValueError\u001b[39;00m(\n\u001b[1;32m     70\u001b[0m         \u001b[39mf\u001b[39m\u001b[39m\"\u001b[39m\u001b[39mLength mismatch: Expected axis has \u001b[39m\u001b[39m{\u001b[39;00mold_len\u001b[39m}\u001b[39;00m\u001b[39m elements, new \u001b[39m\u001b[39m\"\u001b[39m\n\u001b[1;32m     71\u001b[0m         \u001b[39mf\u001b[39m\u001b[39m\"\u001b[39m\u001b[39mvalues have \u001b[39m\u001b[39m{\u001b[39;00mnew_len\u001b[39m}\u001b[39;00m\u001b[39m elements\u001b[39m\u001b[39m\"\u001b[39m\n\u001b[1;32m     72\u001b[0m     )\n",
      "\u001b[0;31mValueError\u001b[0m: Length mismatch: Expected axis has 15 elements, new values have 23 elements"
     ]
    }
   ],
   "source": [
    "houses = data[data[6] == 'House']\n",
    "houses.drop(houses.columns[15:], axis=1, inplace=True)\n",
    "house_columns = [\"address\",\n",
    "\"price\",\n",
    "\"gross_tax\",\n",
    "\"strata_maintenance_fees\",\n",
    "\"bedrooms\",\n",
    "\"bathrooms\",\n",
    "\"property_type\",\n",
    "\"property_age\",\n",
    "\"title\",\n",
    "\"style\",\n",
    "\"heating_type\",\n",
    "\"feature\",\n",
    "\"amenities\",\n",
    "\"appliances\",\n",
    "\"community\",\n",
    "\"days_on_rew\",\n",
    "\"property_views\",\n",
    "\"mls®_number\",\n",
    "\"source\",\n",
    "'frontage', \n",
    "'lot_size', \n",
    "'year_built', \n",
    "'depth']\n",
    "houses.columns = house_columns\n",
    "houses.head()"
   ]
  },
  {
   "cell_type": "code",
   "execution_count": null,
   "metadata": {},
   "outputs": [
    {
     "ename": "",
     "evalue": "",
     "output_type": "error",
     "traceback": [
      "\u001b[1;31mRunning cells with 'Python 3.9.13 ('pandas')' requires ipykernel package.\n",
      "\u001b[1;31mRun the following command to install 'ipykernel' into the Python environment. \n",
      "\u001b[1;31mCommand: 'conda install -n pandas ipykernel --update-deps --force-reinstall'"
     ]
    }
   ],
   "source": [
    "# Filter Houses Only"
   ]
  },
  {
   "cell_type": "code",
   "execution_count": null,
   "metadata": {},
   "outputs": [
    {
     "ename": "",
     "evalue": "",
     "output_type": "error",
     "traceback": [
      "\u001b[1;31mRunning cells with 'Python 3.9.13 ('pandas')' requires ipykernel package.\n",
      "\u001b[1;31mRun the following command to install 'ipykernel' into the Python environment. \n",
      "\u001b[1;31mCommand: 'conda install -n pandas ipykernel --update-deps --force-reinstall'"
     ]
    }
   ],
   "source": [
    "# Convert Price column to integer"
   ]
  },
  {
   "cell_type": "code",
   "execution_count": null,
   "metadata": {},
   "outputs": [
    {
     "ename": "",
     "evalue": "",
     "output_type": "error",
     "traceback": [
      "\u001b[1;31mRunning cells with 'Python 3.9.13 ('pandas')' requires ipykernel package.\n",
      "\u001b[1;31mRun the following command to install 'ipykernel' into the Python environment. \n",
      "\u001b[1;31mCommand: 'conda install -n pandas ipykernel --update-deps --force-reinstall'"
     ]
    }
   ],
   "source": [
    "# convert Lot Size to Integer"
   ]
  },
  {
   "cell_type": "code",
   "execution_count": null,
   "metadata": {},
   "outputs": [
    {
     "ename": "",
     "evalue": "",
     "output_type": "error",
     "traceback": [
      "\u001b[1;31mRunning cells with 'Python 3.9.13 ('pandas')' requires ipykernel package.\n",
      "\u001b[1;31mRun the following command to install 'ipykernel' into the Python environment. \n",
      "\u001b[1;31mCommand: 'conda install -n pandas ipykernel --update-deps --force-reinstall'"
     ]
    }
   ],
   "source": [
    "# Convert Gross Tax Income to Integer"
   ]
  },
  {
   "cell_type": "code",
   "execution_count": null,
   "metadata": {},
   "outputs": [
    {
     "ename": "",
     "evalue": "",
     "output_type": "error",
     "traceback": [
      "\u001b[1;31mRunning cells with 'Python 3.9.13 ('pandas')' requires ipykernel package.\n",
      "\u001b[1;31mRun the following command to install 'ipykernel' into the Python environment. \n",
      "\u001b[1;31mCommand: 'conda install -n pandas ipykernel --update-deps --force-reinstall'"
     ]
    }
   ],
   "source": [
    "# Convert House Age to integer - Consider prebuild houses with age 0"
   ]
  }
 ],
 "metadata": {
  "kernelspec": {
   "display_name": "Python 3.9.13 ('pandas')",
   "language": "python",
   "name": "python3"
  },
  "language_info": {
   "codemirror_mode": {
    "name": "ipython",
    "version": 3
   },
   "file_extension": ".py",
   "mimetype": "text/x-python",
   "name": "python",
   "nbconvert_exporter": "python",
   "pygments_lexer": "ipython3",
   "version": "3.9.13"
  },
  "orig_nbformat": 4,
  "vscode": {
   "interpreter": {
    "hash": "3e86c8d6b686c173c7f46da90a1c35d02b254f7f1bb42032f116801640334554"
   }
  }
 },
 "nbformat": 4,
 "nbformat_minor": 2
}
